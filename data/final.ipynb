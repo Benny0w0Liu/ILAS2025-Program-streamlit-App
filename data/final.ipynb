{
 "cells": [
  {
   "cell_type": "code",
   "execution_count": 1,
   "id": "558d6f84",
   "metadata": {},
   "outputs": [],
   "source": [
    "import pypandoc\n",
    "import pandas as pd\n",
    "\n",
    "def convert_latex_to_markdown(latex_str):\n",
    "    \"\"\"\n",
    "    Convert LaTeX string to Markdown using pypandoc.\n",
    "    \"\"\"\n",
    "    try:\n",
    "        # Attempt to convert the LaTeX string to Markdown\n",
    "        return pypandoc.convert_text(latex_str, 'markdown', format='latex')\n",
    "    except:\n",
    "        return f\"Conversion error, original LaTeX retained: {latex_str}\"\n",
    "srp_df=pd.read_csv(\"https://raw.githubusercontent.com/ilas2025/ilas2025-program/refs/heads/main/srp-full.csv\")\n",
    "srp_df['ABSTRACT'] = srp_df['ABSTRACT'].apply(convert_latex_to_markdown)\n"
   ]
  },
  {
   "cell_type": "code",
   "execution_count": 16,
   "id": "95b76a1f",
   "metadata": {},
   "outputs": [],
   "source": [
    "st=pd.read_csv(\"https://raw.githubusercontent.com/ilas2025/ilas2025-program/refs/heads/main/ST.csv\")\n",
    "new_df = srp_df.iloc[0:0]\n",
    "\n",
    "for x in st[\"SESSION\"]:\n",
    "    session=srp_df[srp_df['SESSION']==x]\n",
    "    if len(srp_df[srp_df['SESSION']==x])>1:\n",
    "        session.sort_values(by=[\"START\"])\n",
    "    new_df = pd.concat([new_df, session], ignore_index=True)\n",
    "new_df.to_csv(\"agenda.csv\")"
   ]
  }
 ],
 "metadata": {
  "kernelspec": {
   "display_name": "Python 3",
   "language": "python",
   "name": "python3"
  },
  "language_info": {
   "codemirror_mode": {
    "name": "ipython",
    "version": 3
   },
   "file_extension": ".py",
   "mimetype": "text/x-python",
   "name": "python",
   "nbconvert_exporter": "python",
   "pygments_lexer": "ipython3",
   "version": "3.12.4"
  }
 },
 "nbformat": 4,
 "nbformat_minor": 5
}
